{
  "nbformat": 4,
  "nbformat_minor": 0,
  "metadata": {
    "colab": {
      "provenance": [],
      "authorship_tag": "ABX9TyN4Zp83Lg2M0jtEUMNwg3q3",
      "include_colab_link": true
    },
    "kernelspec": {
      "name": "python3",
      "display_name": "Python 3"
    },
    "language_info": {
      "name": "python"
    }
  },
  "cells": [
    {
      "cell_type": "markdown",
      "metadata": {
        "id": "view-in-github",
        "colab_type": "text"
      },
      "source": [
        "<a href=\"https://colab.research.google.com/github/Gm-shuvo/AI_Lab/blob/main/digitHandWrittenPractice.ipynb\" target=\"_parent\"><img src=\"https://colab.research.google.com/assets/colab-badge.svg\" alt=\"Open In Colab\"/></a>"
      ]
    },
    {
      "cell_type": "code",
      "execution_count": null,
      "metadata": {
        "id": "aEbguFmkkQYm"
      },
      "outputs": [],
      "source": [
        "import tensorflow as tf\n",
        "from tensorflow import keras\n",
        "import matplotlib.pyplot as plt\n",
        "%matplotlib inline\n",
        "import numpy as np\n",
        "from keras.preprocessing.image import ImageDataGenerator"
      ]
    },
    {
      "cell_type": "code",
      "source": [
        "(X_train, Y_train), (X_test, Y_test) = keras.datasets.mnist.load_data()"
      ],
      "metadata": {
        "colab": {
          "base_uri": "https://localhost:8080/"
        },
        "id": "y9biYQJYlDK2",
        "outputId": "e514c3dd-92b0-4dfc-aea0-25b81f31fd23"
      },
      "execution_count": null,
      "outputs": [
        {
          "output_type": "stream",
          "name": "stdout",
          "text": [
            "Downloading data from https://storage.googleapis.com/tensorflow/tf-keras-datasets/mnist.npz\n",
            "11490434/11490434 [==============================] - 0s 0us/step\n"
          ]
        }
      ]
    },
    {
      "cell_type": "code",
      "source": [
        "x_train = X_train.reshape((60000, 28, 28, 1)) / 255.0\n",
        "x_test = X_test.reshape((10000, 28, 28, 1)) / 255.0\n",
        "\n",
        "y_train = keras.utils.to_categorical(Y_train, 10)\n",
        "y_test = keras.utils.to_categorical(Y_test, 10)\n",
        "\n"
      ],
      "metadata": {
        "id": "dgjfr1WBlYdn"
      },
      "execution_count": null,
      "outputs": []
    },
    {
      "cell_type": "code",
      "source": [
        "x_train_flat = x_train.astype(\"float32\") / 255.0\n",
        "x_test_flat = x_test.astype(\"float32\") / 255.0"
      ],
      "metadata": {
        "id": "BZdeotAllJIE"
      },
      "execution_count": null,
      "outputs": []
    },
    {
      "cell_type": "code",
      "source": [
        "plt.matshow(x_train_flat[5])\n",
        "x_train_flat.shape"
      ],
      "metadata": {
        "colab": {
          "base_uri": "https://localhost:8080/",
          "height": 293
        },
        "id": "22Yp688qlo-B",
        "outputId": "2fec2593-5abd-40a5-982f-9b9e71360cca"
      },
      "execution_count": null,
      "outputs": [
        {
          "output_type": "execute_result",
          "data": {
            "text/plain": [
              "(60000, 28, 28, 1)"
            ]
          },
          "metadata": {},
          "execution_count": 6
        },
        {
          "output_type": "display_data",
          "data": {
            "text/plain": [
              "<Figure size 288x288 with 1 Axes>"
            ],
            "image/png": "[encoded data removed]"
          },
          "metadata": {
            "needs_background": "light"
          }
        }
      ]
    },
    {
      "cell_type": "code",
      "source": [
        "fig = plt.figure(figsize=(25, 2))\n",
        "print(\"Number of images without augmentation: \",x_train_flat.shape[0])\n",
        "for i, image in enumerate(x_train_flat[:10]):\n",
        "    # Create a new subplot for each image\n",
        "    plt.subplot(1, 10, i+1)\n",
        "    plt.xticks([])\n",
        "    plt.yticks([])\n",
        "    plt.grid(False)\n",
        "    plt.imshow(image, cmap=plt.cm.binary)\n",
        "    plt.xlabel(y_train[i])\n",
        "\n",
        "\n",
        "plt.show()"
      ],
      "metadata": {
        "colab": {
          "base_uri": "https://localhost:8080/",
          "height": 168
        },
        "id": "RRrCAjUJW_4O",
        "outputId": "eb4b52d8-2825-49bc-8be8-e7ff44a0ba61"
      },
      "execution_count": null,
      "outputs": [
        {
          "output_type": "stream",
          "name": "stdout",
          "text": [
            "Number of images without augmentation:  60000\n"
          ]
        },
        {
          "output_type": "display_data",
          "data": {
            "text/plain": [
              "<Figure size 1800x144 with 10 Axes>"
            ],
            "image/png": "[encoded data removed]"
          },
          "metadata": {}
        }
      ]
    },
    {
      "cell_type": "code",
      "source": [
        "model = keras.Sequential([ \n",
        "    keras.layers.Flatten(input_shape =(28, 28)),\n",
        "    keras.layers.Dense(128, activation=\"relu\"),\n",
        "    keras.layers.Dense(64, activation=\"relu\"),\n",
        "    keras.layers.Dense(32, activation=\"relu\"),\n",
        "    keras.layers.Dense(10, activation=\"softmax\")\n",
        "])\n"
      ],
      "metadata": {
        "id": "tzCUgoVNe70Q"
      },
      "execution_count": null,
      "outputs": []
    },
    {
      "cell_type": "code",
      "source": [
        "model.compile(\n",
        "    optimizer='adam',\n",
        "    loss='categorical_crossentropy',\n",
        "    metrics=['accuracy']\n",
        ")\n",
        "\n"
      ],
      "metadata": {
        "id": "gCCzEFFte7dV"
      },
      "execution_count": null,
      "outputs": []
    },
    {
      "cell_type": "code",
      "source": [
        "history = model.fit(x_train_flat, y_train, batch_size=128, epochs=20, verbose = 2)"
      ],
      "metadata": {
        "colab": {
          "base_uri": "https://localhost:8080/"
        },
        "id": "ilyl2tZ9_CZ0",
        "outputId": "bee2a6a4-61ea-439e-b369-ca8c1a863a78"
      },
      "execution_count": null,
      "outputs": [
        {
          "output_type": "stream",
          "name": "stdout",
          "text": [
            "Epoch 1/20\n",
            "469/469 - 2s - loss: 1.2185 - accuracy: 0.5986 - 2s/epoch - 5ms/step\n",
            "Epoch 2/20\n",
            "469/469 - 1s - loss: 0.5162 - accuracy: 0.8452 - 1s/epoch - 3ms/step\n",
            "Epoch 3/20\n",
            "469/469 - 2s - loss: 0.4126 - accuracy: 0.8779 - 2s/epoch - 4ms/step\n",
            "Epoch 4/20\n",
            "469/469 - 1s - loss: 0.3738 - accuracy: 0.8901 - 1s/epoch - 3ms/step\n",
            "Epoch 5/20\n",
            "469/469 - 1s - loss: 0.3462 - accuracy: 0.8985 - 1s/epoch - 3ms/step\n",
            "Epoch 6/20\n",
            "469/469 - 1s - loss: 0.3201 - accuracy: 0.9069 - 1s/epoch - 3ms/step\n",
            "Epoch 7/20\n",
            "469/469 - 1s - loss: 0.2921 - accuracy: 0.9159 - 1s/epoch - 3ms/step\n",
            "Epoch 8/20\n",
            "469/469 - 1s - loss: 0.2683 - accuracy: 0.9226 - 1s/epoch - 3ms/step\n",
            "Epoch 9/20\n",
            "469/469 - 1s - loss: 0.2459 - accuracy: 0.9287 - 1s/epoch - 3ms/step\n",
            "Epoch 10/20\n",
            "469/469 - 1s - loss: 0.2242 - accuracy: 0.9353 - 1s/epoch - 3ms/step\n",
            "Epoch 11/20\n",
            "469/469 - 2s - loss: 0.2055 - accuracy: 0.9403 - 2s/epoch - 3ms/step\n",
            "Epoch 12/20\n",
            "469/469 - 2s - loss: 0.1885 - accuracy: 0.9451 - 2s/epoch - 4ms/step\n",
            "Epoch 13/20\n",
            "469/469 - 1s - loss: 0.1735 - accuracy: 0.9499 - 1s/epoch - 3ms/step\n",
            "Epoch 14/20\n",
            "469/469 - 1s - loss: 0.1592 - accuracy: 0.9538 - 1s/epoch - 3ms/step\n",
            "Epoch 15/20\n",
            "469/469 - 1s - loss: 0.1493 - accuracy: 0.9559 - 1s/epoch - 3ms/step\n",
            "Epoch 16/20\n",
            "469/469 - 1s - loss: 0.1397 - accuracy: 0.9590 - 1s/epoch - 3ms/step\n",
            "Epoch 17/20\n",
            "469/469 - 1s - loss: 0.1308 - accuracy: 0.9614 - 1s/epoch - 3ms/step\n",
            "Epoch 18/20\n",
            "469/469 - 1s - loss: 0.1237 - accuracy: 0.9636 - 1s/epoch - 3ms/step\n",
            "Epoch 19/20\n",
            "469/469 - 1s - loss: 0.1185 - accuracy: 0.9653 - 1s/epoch - 3ms/step\n",
            "Epoch 20/20\n",
            "469/469 - 2s - loss: 0.1103 - accuracy: 0.9678 - 2s/epoch - 4ms/step\n"
          ]
        }
      ]
    },
    {
      "cell_type": "code",
      "source": [
        "model.evaluate(x_test, y_test)"
      ],
      "metadata": {
        "colab": {
          "base_uri": "https://localhost:8080/"
        },
        "id": "nceeaAJbB0ck",
        "outputId": "822dcb3e-66c2-45a7-ae7f-113d08cbafe2"
      },
      "execution_count": null,
      "outputs": [
        {
          "output_type": "stream",
          "name": "stdout",
          "text": [
            "313/313 [==============================] - 1s 1ms/step - loss: 26.4506 - accuracy: 0.9114\n"
          ]
        },
        {
          "output_type": "execute_result",
          "data": {
            "text/plain": [
              "[26.450584411621094, 0.9114000201225281]"
            ]
          },
          "metadata": {},
          "execution_count": 16
        }
      ]
    },
    {
      "cell_type": "code",
      "source": [
        "#Augmentation of dataset\n",
        "datagen = ImageDataGenerator(\n",
        "    rotation_range=10,\n",
        "    width_shift_range=0.1,\n",
        "    height_shift_range=0.1,\n",
        "    zoom_range=0.1,\n",
        "    fill_mode = 'nearest'\n",
        ")\n"
      ],
      "metadata": {
        "id": "nEL6qr81J1We"
      },
      "execution_count": null,
      "outputs": []
    },
    {
      "cell_type": "code",
      "source": [
        "datagen.fit(x_train_flat)\n",
        "\n",
        "augment_image = []\n",
        "\n",
        "for batch in datagen.flow(x_train, batch_size=len(x_train_flat), shuffle=False):\n",
        "  augment_image.append(batch)\n",
        "  if len(augment_image) * len(batch) >= len(x_train_flat) * 2:\n",
        "    break;\n",
        "augment_image = np.concatenate(augment_image)\n",
        "y_train_augment = np.concatenate((y_train, y_train), axis = 0)\n",
        "\n"
      ],
      "metadata": {
        "id": "VXIcWXMZTyeo"
      },
      "execution_count": null,
      "outputs": []
    },
    {
      "cell_type": "code",
      "source": [
        "fig = plt.figure(figsize=(25, 2))\n",
        "print(\"Number of images with augmentation: \",augment_image.shape[0])\n",
        "for i, image in enumerate(augment_image[:10]):\n",
        "    # Create a new subplot for each image\n",
        "    plt.subplot(1, 10, i+1)\n",
        "    plt.xticks([])\n",
        "    plt.yticks([])\n",
        "    plt.grid(False)\n",
        "    plt.imshow(image, cmap=plt.cm.binary)\n",
        "    plt.xlabel(y_train[i])\n",
        "\n",
        "\n",
        "plt.show()"
      ],
      "metadata": {
        "colab": {
          "base_uri": "https://localhost:8080/",
          "height": 225
        },
        "id": "ooIWGHjDWmFX",
        "outputId": "662d9e9e-79c2-409d-8e8f-c94735d9b7be"
      },
      "execution_count": null,
      "outputs": [
        {
          "output_type": "stream",
          "name": "stdout",
          "text": [
            "Number of images with augmentation:  120000\n"
          ]
        },
        {
          "output_type": "stream",
          "name": "stderr",
          "text": [
            "/usr/local/lib/python3.9/dist-packages/matplotlib/text.py:1279: FutureWarning: elementwise comparison failed; returning scalar instead, but in the future will perform elementwise comparison\n",
            "  if s != self._text:\n"
          ]
        },
        {
          "output_type": "display_data",
          "data": {
            "text/plain": [
              "<Figure size 1800x144 with 10 Axes>"
            ],
            "image/png": "[encoded data removed]"
          },
          "metadata": {}
        }
      ]
    },
    {
      "cell_type": "code",
      "source": [
        "model.fit(augment_image, y_train_augment, epochs=20, batch_size=128, verbose = 2)\n",
        "test_loss, test_acc = model.evaluate(x_test, y_test)\n",
        "print(augment_image.shape)\n",
        "print('Test accuracy after augmentation ( with normal test_data):', test_acc)"
      ],
      "metadata": {
        "colab": {
          "base_uri": "https://localhost:8080/"
        },
        "id": "vZ5sLySvW3dh",
        "outputId": "6a22b674-e02b-4db4-cd28-a024149feb98"
      },
      "execution_count": null,
      "outputs": [
        {
          "output_type": "stream",
          "name": "stdout",
          "text": [
            "Epoch 1/20\n",
            "938/938 - 3s - loss: 4.8965 - accuracy: 0.6125 - 3s/epoch - 3ms/step\n",
            "Epoch 2/20\n",
            "938/938 - 3s - loss: 0.6593 - accuracy: 0.8016 - 3s/epoch - 3ms/step\n",
            "Epoch 3/20\n",
            "938/938 - 3s - loss: 0.5088 - accuracy: 0.8449 - 3s/epoch - 3ms/step\n",
            "Epoch 4/20\n",
            "938/938 - 3s - loss: 0.4312 - accuracy: 0.8691 - 3s/epoch - 3ms/step\n",
            "Epoch 5/20\n",
            "938/938 - 2s - loss: 0.3696 - accuracy: 0.8874 - 2s/epoch - 3ms/step\n",
            "Epoch 6/20\n",
            "938/938 - 3s - loss: 0.3201 - accuracy: 0.9021 - 3s/epoch - 3ms/step\n",
            "Epoch 7/20\n",
            "938/938 - 3s - loss: 0.2816 - accuracy: 0.9145 - 3s/epoch - 3ms/step\n",
            "Epoch 8/20\n",
            "938/938 - 2s - loss: 0.2488 - accuracy: 0.9246 - 2s/epoch - 3ms/step\n",
            "Epoch 9/20\n",
            "938/938 - 3s - loss: 0.2237 - accuracy: 0.9323 - 3s/epoch - 3ms/step\n",
            "Epoch 10/20\n",
            "938/938 - 3s - loss: 0.2016 - accuracy: 0.9381 - 3s/epoch - 3ms/step\n",
            "Epoch 11/20\n",
            "938/938 - 3s - loss: 0.1829 - accuracy: 0.9446 - 3s/epoch - 3ms/step\n",
            "Epoch 12/20\n",
            "938/938 - 3s - loss: 0.1668 - accuracy: 0.9489 - 3s/epoch - 3ms/step\n",
            "Epoch 13/20\n",
            "938/938 - 3s - loss: 0.1537 - accuracy: 0.9535 - 3s/epoch - 3ms/step\n",
            "Epoch 14/20\n",
            "938/938 - 3s - loss: 0.1426 - accuracy: 0.9561 - 3s/epoch - 3ms/step\n",
            "Epoch 15/20\n",
            "938/938 - 3s - loss: 0.1320 - accuracy: 0.9595 - 3s/epoch - 3ms/step\n",
            "Epoch 16/20\n",
            "938/938 - 3s - loss: 0.1233 - accuracy: 0.9620 - 3s/epoch - 3ms/step\n",
            "Epoch 17/20\n",
            "938/938 - 3s - loss: 0.1147 - accuracy: 0.9649 - 3s/epoch - 3ms/step\n",
            "Epoch 18/20\n",
            "938/938 - 3s - loss: 0.1067 - accuracy: 0.9669 - 3s/epoch - 3ms/step\n",
            "Epoch 19/20\n",
            "938/938 - 3s - loss: 0.1014 - accuracy: 0.9689 - 3s/epoch - 3ms/step\n",
            "Epoch 20/20\n",
            "938/938 - 3s - loss: 0.0962 - accuracy: 0.9697 - 3s/epoch - 3ms/step\n",
            "313/313 [==============================] - 0s 1ms/step - loss: 0.1167 - accuracy: 0.9671\n",
            "(120000, 28, 28, 1)\n",
            "Test accuracy after augmentation ( with normal test_data): 0.9671000242233276\n"
          ]
        }
      ]
    },
    {
      "cell_type": "code",
      "source": [
        "plt.matshow(augment_image[0]) "
      ],
      "metadata": {
        "colab": {
          "base_uri": "https://localhost:8080/",
          "height": 293
        },
        "id": "gaV6Pui0AhlT",
        "outputId": "9d58e4f1-8a48-4c17-b526-869ab853d061"
      },
      "execution_count": null,
      "outputs": [
        {
          "output_type": "execute_result",
          "data": {
            "text/plain": [
              "<matplotlib.image.AxesImage at 0x7ff3b3bef520>"
            ]
          },
          "metadata": {},
          "execution_count": 34
        },
        {
          "output_type": "display_data",
          "data": {
            "text/plain": [
              "<Figure size 288x288 with 1 Axes>"
            ],
            "image/png": "[encoded data removed]"
          },
          "metadata": {
            "needs_background": "light"
          }
        }
      ]
    },
    {
      "cell_type": "code",
      "source": [
        "predictions = model.predict(augment_image)\n"
      ],
      "metadata": {
        "colab": {
          "base_uri": "https://localhost:8080/"
        },
        "id": "tRe4omu2AhdD",
        "outputId": "965f633d-6dc5-4472-a776-78f7fdab6947"
      },
      "execution_count": null,
      "outputs": [
        {
          "output_type": "stream",
          "name": "stdout",
          "text": [
            "3750/3750 [==============================] - 5s 1ms/step\n"
          ]
        }
      ]
    },
    {
      "cell_type": "code",
      "source": [
        "np.argmax(predictions[7])"
      ],
      "metadata": {
        "colab": {
          "base_uri": "https://localhost:8080/"
        },
        "id": "eRn4VRm4AhWD",
        "outputId": "fa9bcf1d-3dd2-4226-e55f-3c6eafd5976e"
      },
      "execution_count": null,
      "outputs": [
        {
          "output_type": "execute_result",
          "data": {
            "text/plain": [
              "3"
            ]
          },
          "metadata": {},
          "execution_count": 40
        }
      ]
    }
  ]
}