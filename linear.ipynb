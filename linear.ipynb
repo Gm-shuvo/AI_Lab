{
  "nbformat": 4,
  "nbformat_minor": 0,
  "metadata": {
    "colab": {
      "provenance": [],
      "gpuType": "T4",
      "authorship_tag": "ABX9TyM2ly1gpWC8JtKrsq+lVqlo",
      "include_colab_link": true
    },
    "kernelspec": {
      "name": "python3",
      "display_name": "Python 3"
    },
    "language_info": {
      "name": "python"
    },
    "gpuClass": "standard"
  },
  "cells": [
    {
      "cell_type": "markdown",
      "metadata": {
        "id": "view-in-github",
        "colab_type": "text"
      },
      "source": [
        "<a href=\"https://colab.research.google.com/github/Gm-shuvo/AI_Lab/blob/main/linear.ipynb\" target=\"_parent\"><img src=\"https://colab.research.google.com/assets/colab-badge.svg\" alt=\"Open In Colab\"/></a>"
      ]
    },
    {
      "cell_type": "markdown",
      "source": [],
      "metadata": {
        "id": "Fx1xignUAwBR"
      }
    },
    {
      "cell_type": "code",
      "execution_count": null,
      "metadata": {
        "id": "m4gxTWxL16M6"
      },
      "outputs": [],
      "source": [
        "import numpy as np\n",
        "import tensorflow as tf\n",
        "from tensorflow.keras.layers import Dense"
      ]
    },
    {
      "cell_type": "code",
      "source": [
        "x_train = []\n",
        "y_train = []\n",
        "\n",
        "for i in range(2000):\n",
        "  x = np.random.randint(-10, 10);\n",
        "  y = 3*x*x + 2*x + 3;\n",
        "  x_train.append(x);\n",
        "  y_train.append(y);\n",
        "x_train[:5], y_train[:5]"
      ],
      "metadata": {
        "colab": {
          "base_uri": "https://localhost:8080/"
        },
        "id": "8MMxF1c332L9",
        "outputId": "e03c5011-fece-4f6c-8442-624ef5f2f0f2"
      },
      "execution_count": null,
      "outputs": [
        {
          "output_type": "execute_result",
          "data": {
            "text/plain": [
              "([1, -4, -3, -5, -2], [8, 43, 24, 68, 11])"
            ]
          },
          "metadata": {},
          "execution_count": 3
        }
      ]
    },
    {
      "cell_type": "code",
      "source": [
        "model = tf.keras.Sequential([\n",
        "    Dense(128, 'relu', input_dim = [1]),\n",
        "    Dense(64, 'relu'),\n",
        "    Dense(32,'relu'),\n",
        "    Dense(16,'relu'),\n",
        "    Dense(8, 'relu'),\n",
        "    Dense(1, 'linear')\n",
        "])"
      ],
      "metadata": {
        "id": "tsA_xQ0M4jMp"
      },
      "execution_count": null,
      "outputs": []
    },
    {
      "cell_type": "code",
      "source": [
        "model.compile(optimizer='adam', loss= 'mse', metrics=['accuracy'])"
      ],
      "metadata": {
        "id": "Dwr8W7bC6YHP"
      },
      "execution_count": null,
      "outputs": []
    },
    {
      "cell_type": "code",
      "source": [
        "model.summary()"
      ],
      "metadata": {
        "colab": {
          "base_uri": "https://localhost:8080/"
        },
        "id": "NMXnc5Vy6l_L",
        "outputId": "6310659f-aa36-42b7-8d1a-cfd161b2ca63"
      },
      "execution_count": null,
      "outputs": [
        {
          "output_type": "stream",
          "name": "stdout",
          "text": [
            "Model: \"sequential\"\n",
            "_________________________________________________________________\n",
            " Layer (type)                Output Shape              Param #   \n",
            "=================================================================\n",
            " dense (Dense)               (None, 128)               256       \n",
            "                                                                 \n",
            " dense_1 (Dense)             (None, 64)                8256      \n",
            "                                                                 \n",
            " dense_2 (Dense)             (None, 32)                2080      \n",
            "                                                                 \n",
            " dense_3 (Dense)             (None, 16)                528       \n",
            "                                                                 \n",
            " dense_4 (Dense)             (None, 8)                 136       \n",
            "                                                                 \n",
            " dense_5 (Dense)             (None, 1)                 9         \n",
            "                                                                 \n",
            "=================================================================\n",
            "Total params: 11,265\n",
            "Trainable params: 11,265\n",
            "Non-trainable params: 0\n",
            "_________________________________________________________________\n"
          ]
        }
      ]
    },
    {
      "cell_type": "code",
      "source": [
        "model.fit(x_train, y_train, batch_size=32, epochs=100)"
      ],
      "metadata": {
        "colab": {
          "base_uri": "https://localhost:8080/"
        },
        "id": "q7ptWVIK6uZx",
        "outputId": "8a22b316-24e4-4228-a3dd-d811fd1be0de"
      },
      "execution_count": null,
      "outputs": [
        {
          "output_type": "stream",
          "name": "stdout",
          "text": [
            "Epoch 1/100\n",
            "63/63 [==============================] - 2s 3ms/step - loss: 15054.8486 - accuracy: 0.0000e+00\n",
            "Epoch 2/100\n",
            "63/63 [==============================] - 0s 3ms/step - loss: 1617.7939 - accuracy: 0.0000e+00\n",
            "Epoch 3/100\n",
            "63/63 [==============================] - 0s 3ms/step - loss: 1164.1575 - accuracy: 0.0000e+00\n",
            "Epoch 4/100\n",
            "63/63 [==============================] - 0s 3ms/step - loss: 1013.9250 - accuracy: 0.0000e+00\n",
            "Epoch 5/100\n",
            "63/63 [==============================] - 0s 3ms/step - loss: 862.5020 - accuracy: 0.0000e+00\n",
            "Epoch 6/100\n",
            "63/63 [==============================] - 0s 3ms/step - loss: 721.6676 - accuracy: 0.0000e+00\n",
            "Epoch 7/100\n",
            "63/63 [==============================] - 0s 3ms/step - loss: 580.9630 - accuracy: 0.0000e+00\n",
            "Epoch 8/100\n",
            "63/63 [==============================] - 0s 3ms/step - loss: 443.3601 - accuracy: 0.0000e+00\n",
            "Epoch 9/100\n",
            "63/63 [==============================] - 0s 3ms/step - loss: 314.8676 - accuracy: 0.0000e+00\n",
            "Epoch 10/100\n",
            "63/63 [==============================] - 0s 3ms/step - loss: 207.6224 - accuracy: 0.0000e+00\n",
            "Epoch 11/100\n",
            "63/63 [==============================] - 0s 3ms/step - loss: 130.2844 - accuracy: 0.0000e+00\n",
            "Epoch 12/100\n",
            "63/63 [==============================] - 0s 3ms/step - loss: 78.7582 - accuracy: 0.0000e+00\n",
            "Epoch 13/100\n",
            "63/63 [==============================] - 0s 3ms/step - loss: 45.6961 - accuracy: 0.0000e+00\n",
            "Epoch 14/100\n",
            "63/63 [==============================] - 0s 3ms/step - loss: 26.9432 - accuracy: 0.0000e+00\n",
            "Epoch 15/100\n",
            "63/63 [==============================] - 0s 3ms/step - loss: 17.0689 - accuracy: 0.0000e+00\n",
            "Epoch 16/100\n",
            "63/63 [==============================] - 0s 3ms/step - loss: 11.1202 - accuracy: 0.0000e+00\n",
            "Epoch 17/100\n",
            "63/63 [==============================] - 0s 3ms/step - loss: 7.5900 - accuracy: 0.0000e+00\n",
            "Epoch 18/100\n",
            "63/63 [==============================] - 0s 3ms/step - loss: 5.0413 - accuracy: 0.0000e+00\n",
            "Epoch 19/100\n",
            "63/63 [==============================] - 0s 4ms/step - loss: 3.4475 - accuracy: 0.0000e+00\n",
            "Epoch 20/100\n",
            "63/63 [==============================] - 0s 3ms/step - loss: 2.8062 - accuracy: 0.0000e+00\n",
            "Epoch 21/100\n",
            "63/63 [==============================] - 0s 3ms/step - loss: 2.1555 - accuracy: 0.0000e+00\n",
            "Epoch 22/100\n",
            "63/63 [==============================] - 0s 5ms/step - loss: 1.7913 - accuracy: 0.0000e+00\n",
            "Epoch 23/100\n",
            "63/63 [==============================] - 0s 4ms/step - loss: 1.3620 - accuracy: 0.0000e+00\n",
            "Epoch 24/100\n",
            "63/63 [==============================] - 0s 4ms/step - loss: 1.1399 - accuracy: 0.0000e+00\n",
            "Epoch 25/100\n",
            "63/63 [==============================] - 0s 4ms/step - loss: 1.0712 - accuracy: 0.0000e+00\n",
            "Epoch 26/100\n",
            "63/63 [==============================] - 0s 5ms/step - loss: 1.0225 - accuracy: 0.0000e+00\n",
            "Epoch 27/100\n",
            "63/63 [==============================] - 0s 3ms/step - loss: 0.7394 - accuracy: 0.0000e+00\n",
            "Epoch 28/100\n",
            "63/63 [==============================] - 0s 2ms/step - loss: 0.6536 - accuracy: 0.0000e+00\n",
            "Epoch 29/100\n",
            "63/63 [==============================] - 0s 3ms/step - loss: 0.5155 - accuracy: 0.0000e+00\n",
            "Epoch 30/100\n",
            "63/63 [==============================] - 0s 3ms/step - loss: 0.4714 - accuracy: 0.0000e+00\n",
            "Epoch 31/100\n",
            "63/63 [==============================] - 0s 3ms/step - loss: 0.4660 - accuracy: 0.0000e+00\n",
            "Epoch 32/100\n",
            "63/63 [==============================] - 0s 3ms/step - loss: 0.3665 - accuracy: 0.0000e+00\n",
            "Epoch 33/100\n",
            "63/63 [==============================] - 0s 3ms/step - loss: 0.3353 - accuracy: 0.0000e+00\n",
            "Epoch 34/100\n",
            "63/63 [==============================] - 0s 3ms/step - loss: 0.2768 - accuracy: 0.0000e+00\n",
            "Epoch 35/100\n",
            "63/63 [==============================] - 0s 2ms/step - loss: 0.2426 - accuracy: 0.0000e+00\n",
            "Epoch 36/100\n",
            "63/63 [==============================] - 0s 3ms/step - loss: 0.1689 - accuracy: 0.0000e+00\n",
            "Epoch 37/100\n",
            "63/63 [==============================] - 0s 3ms/step - loss: 0.1737 - accuracy: 0.0000e+00\n",
            "Epoch 38/100\n",
            "63/63 [==============================] - 0s 3ms/step - loss: 0.1333 - accuracy: 0.0000e+00\n",
            "Epoch 39/100\n",
            "63/63 [==============================] - 0s 3ms/step - loss: 0.1386 - accuracy: 0.0000e+00\n",
            "Epoch 40/100\n",
            "63/63 [==============================] - 0s 3ms/step - loss: 0.1557 - accuracy: 0.0000e+00\n",
            "Epoch 41/100\n",
            "63/63 [==============================] - 0s 3ms/step - loss: 0.0765 - accuracy: 0.0000e+00\n",
            "Epoch 42/100\n",
            "63/63 [==============================] - 0s 3ms/step - loss: 0.0691 - accuracy: 0.0000e+00\n",
            "Epoch 43/100\n",
            "63/63 [==============================] - 0s 3ms/step - loss: 0.0503 - accuracy: 0.0000e+00\n",
            "Epoch 44/100\n",
            "63/63 [==============================] - 0s 3ms/step - loss: 0.0545 - accuracy: 0.0000e+00\n",
            "Epoch 45/100\n",
            "63/63 [==============================] - 0s 3ms/step - loss: 0.0514 - accuracy: 0.0000e+00\n",
            "Epoch 46/100\n",
            "63/63 [==============================] - 0s 3ms/step - loss: 0.0461 - accuracy: 0.0000e+00\n",
            "Epoch 47/100\n",
            "63/63 [==============================] - 0s 3ms/step - loss: 0.0372 - accuracy: 0.0000e+00\n",
            "Epoch 48/100\n",
            "63/63 [==============================] - 0s 3ms/step - loss: 0.0379 - accuracy: 0.0000e+00\n",
            "Epoch 49/100\n",
            "63/63 [==============================] - 0s 2ms/step - loss: 0.0354 - accuracy: 0.0000e+00\n",
            "Epoch 50/100\n",
            "63/63 [==============================] - 0s 3ms/step - loss: 0.0319 - accuracy: 0.0000e+00\n",
            "Epoch 51/100\n",
            "63/63 [==============================] - 0s 3ms/step - loss: 0.0316 - accuracy: 0.0000e+00\n",
            "Epoch 52/100\n",
            "63/63 [==============================] - 0s 3ms/step - loss: 0.0314 - accuracy: 0.0000e+00\n",
            "Epoch 53/100\n",
            "63/63 [==============================] - 0s 3ms/step - loss: 0.0286 - accuracy: 0.0000e+00\n",
            "Epoch 54/100\n",
            "63/63 [==============================] - 0s 3ms/step - loss: 0.0359 - accuracy: 0.0000e+00\n",
            "Epoch 55/100\n",
            "63/63 [==============================] - 0s 3ms/step - loss: 0.0298 - accuracy: 0.0000e+00\n",
            "Epoch 56/100\n",
            "63/63 [==============================] - 0s 3ms/step - loss: 0.0270 - accuracy: 0.0000e+00\n",
            "Epoch 57/100\n",
            "63/63 [==============================] - 0s 3ms/step - loss: 0.0255 - accuracy: 0.0000e+00\n",
            "Epoch 58/100\n",
            "63/63 [==============================] - 0s 3ms/step - loss: 0.0261 - accuracy: 0.0000e+00\n",
            "Epoch 59/100\n",
            "63/63 [==============================] - 0s 3ms/step - loss: 0.0272 - accuracy: 0.0000e+00\n",
            "Epoch 60/100\n",
            "63/63 [==============================] - 0s 3ms/step - loss: 0.0262 - accuracy: 0.0000e+00\n",
            "Epoch 61/100\n",
            "63/63 [==============================] - 0s 3ms/step - loss: 0.0257 - accuracy: 0.0000e+00\n",
            "Epoch 62/100\n",
            "63/63 [==============================] - 0s 2ms/step - loss: 0.0263 - accuracy: 0.0000e+00\n",
            "Epoch 63/100\n",
            "63/63 [==============================] - 0s 4ms/step - loss: 0.0255 - accuracy: 0.0000e+00\n",
            "Epoch 64/100\n",
            "63/63 [==============================] - 0s 5ms/step - loss: 0.0234 - accuracy: 0.0000e+00\n",
            "Epoch 65/100\n",
            "63/63 [==============================] - 0s 4ms/step - loss: 0.0255 - accuracy: 0.0000e+00\n",
            "Epoch 66/100\n",
            "63/63 [==============================] - 0s 4ms/step - loss: 0.0248 - accuracy: 0.0000e+00\n",
            "Epoch 67/100\n",
            "63/63 [==============================] - 0s 4ms/step - loss: 0.0245 - accuracy: 0.0000e+00\n",
            "Epoch 68/100\n",
            "63/63 [==============================] - 0s 4ms/step - loss: 0.0261 - accuracy: 0.0000e+00\n",
            "Epoch 69/100\n",
            "63/63 [==============================] - 0s 4ms/step - loss: 0.0292 - accuracy: 0.0000e+00\n",
            "Epoch 70/100\n",
            "63/63 [==============================] - 0s 3ms/step - loss: 0.0337 - accuracy: 0.0000e+00\n",
            "Epoch 71/100\n",
            "63/63 [==============================] - 0s 2ms/step - loss: 0.0413 - accuracy: 0.0000e+00\n",
            "Epoch 72/100\n",
            "63/63 [==============================] - 0s 3ms/step - loss: 0.0295 - accuracy: 0.0000e+00\n",
            "Epoch 73/100\n",
            "63/63 [==============================] - 0s 3ms/step - loss: 0.0283 - accuracy: 0.0000e+00\n",
            "Epoch 74/100\n",
            "63/63 [==============================] - 0s 3ms/step - loss: 0.1259 - accuracy: 0.0000e+00\n",
            "Epoch 75/100\n",
            "63/63 [==============================] - 0s 3ms/step - loss: 0.1631 - accuracy: 0.0000e+00\n",
            "Epoch 76/100\n",
            "63/63 [==============================] - 0s 3ms/step - loss: 0.0378 - accuracy: 0.0000e+00\n",
            "Epoch 77/100\n",
            "63/63 [==============================] - 0s 3ms/step - loss: 0.0399 - accuracy: 0.0000e+00\n",
            "Epoch 78/100\n",
            "63/63 [==============================] - 0s 3ms/step - loss: 0.0333 - accuracy: 0.0000e+00\n",
            "Epoch 79/100\n",
            "63/63 [==============================] - 0s 2ms/step - loss: 0.0273 - accuracy: 0.0000e+00\n",
            "Epoch 80/100\n",
            "63/63 [==============================] - 0s 3ms/step - loss: 0.0262 - accuracy: 0.0000e+00\n",
            "Epoch 81/100\n",
            "63/63 [==============================] - 0s 2ms/step - loss: 0.0520 - accuracy: 0.0000e+00\n",
            "Epoch 82/100\n",
            "63/63 [==============================] - 0s 3ms/step - loss: 0.0294 - accuracy: 0.0000e+00\n",
            "Epoch 83/100\n",
            "63/63 [==============================] - 0s 3ms/step - loss: 0.0279 - accuracy: 0.0000e+00\n",
            "Epoch 84/100\n",
            "63/63 [==============================] - 0s 3ms/step - loss: 0.0369 - accuracy: 0.0000e+00\n",
            "Epoch 85/100\n",
            "63/63 [==============================] - 0s 3ms/step - loss: 0.0587 - accuracy: 0.0000e+00\n",
            "Epoch 86/100\n",
            "63/63 [==============================] - 0s 2ms/step - loss: 5.9039 - accuracy: 0.0000e+00\n",
            "Epoch 87/100\n",
            "63/63 [==============================] - 0s 3ms/step - loss: 6.2743 - accuracy: 0.0000e+00\n",
            "Epoch 88/100\n",
            "63/63 [==============================] - 0s 3ms/step - loss: 0.4614 - accuracy: 0.0000e+00\n",
            "Epoch 89/100\n",
            "63/63 [==============================] - 0s 3ms/step - loss: 0.4198 - accuracy: 0.0000e+00\n",
            "Epoch 90/100\n",
            "63/63 [==============================] - 0s 2ms/step - loss: 0.2019 - accuracy: 0.0000e+00\n",
            "Epoch 91/100\n",
            "63/63 [==============================] - 0s 3ms/step - loss: 0.1336 - accuracy: 0.0000e+00\n",
            "Epoch 92/100\n",
            "63/63 [==============================] - 0s 3ms/step - loss: 0.2582 - accuracy: 0.0000e+00\n",
            "Epoch 93/100\n",
            "63/63 [==============================] - 0s 3ms/step - loss: 0.0986 - accuracy: 0.0000e+00\n",
            "Epoch 94/100\n",
            "63/63 [==============================] - 0s 3ms/step - loss: 0.1254 - accuracy: 0.0000e+00\n",
            "Epoch 95/100\n",
            "63/63 [==============================] - 0s 3ms/step - loss: 0.0748 - accuracy: 0.0000e+00\n",
            "Epoch 96/100\n",
            "63/63 [==============================] - 0s 2ms/step - loss: 0.0990 - accuracy: 0.0000e+00\n",
            "Epoch 97/100\n",
            "63/63 [==============================] - 0s 4ms/step - loss: 0.2856 - accuracy: 0.0000e+00\n",
            "Epoch 98/100\n",
            "63/63 [==============================] - 0s 3ms/step - loss: 0.2561 - accuracy: 0.0000e+00\n",
            "Epoch 99/100\n",
            "63/63 [==============================] - 0s 3ms/step - loss: 0.0797 - accuracy: 0.0000e+00\n",
            "Epoch 100/100\n",
            "63/63 [==============================] - 0s 3ms/step - loss: 0.1548 - accuracy: 0.0000e+00\n"
          ]
        },
        {
          "output_type": "execute_result",
          "data": {
            "text/plain": [
              "<keras.callbacks.History at 0x7fd989010fd0>"
            ]
          },
          "metadata": {},
          "execution_count": 8
        }
      ]
    },
    {
      "cell_type": "code",
      "source": [
        "x_test = [-4,-3,-2,-1,0,1,2,3,4]\n",
        "y_test = []\n",
        "for i in x_test:\n",
        "  y = 3*i*i + 2*i + 3;\n",
        "  y_test.append(y)\n",
        "\n",
        "\n",
        "y_test"
      ],
      "metadata": {
        "colab": {
          "base_uri": "https://localhost:8080/"
        },
        "id": "jEbAdl1L7ID6",
        "outputId": "8738550e-cadd-49fe-c9aa-f9e9dabc04c1"
      },
      "execution_count": null,
      "outputs": [
        {
          "output_type": "execute_result",
          "data": {
            "text/plain": [
              "[43, 24, 11, 4, 3, 8, 19, 36, 59]"
            ]
          },
          "metadata": {},
          "execution_count": 9
        }
      ]
    },
    {
      "cell_type": "code",
      "source": [
        "model.evaluate(x_test, y_test)"
      ],
      "metadata": {
        "colab": {
          "base_uri": "https://localhost:8080/"
        },
        "id": "4FtknVvl75Ti",
        "outputId": "6ff7ec5c-5713-4293-a220-7c644fd5a4f9"
      },
      "execution_count": null,
      "outputs": [
        {
          "output_type": "stream",
          "name": "stdout",
          "text": [
            "1/1 [==============================] - 0s 216ms/step - loss: 0.0591 - accuracy: 0.0000e+00\n"
          ]
        },
        {
          "output_type": "execute_result",
          "data": {
            "text/plain": [
              "[0.05907412990927696, 0.0]"
            ]
          },
          "metadata": {},
          "execution_count": 10
        }
      ]
    },
    {
      "cell_type": "code",
      "source": [
        "for j in x_test:\n",
        "  output = model.predict([j]).reshape(-1)\n",
        "  y = 3*j*j + 2*j + 3\n",
        "  print(\"accepted: \" + str(y) + \" get: \" + str(output[0]))\n",
        "  \n"
      ],
      "metadata": {
        "colab": {
          "base_uri": "https://localhost:8080/"
        },
        "id": "Fv41A_918CzA",
        "outputId": "64537a99-570f-4f24-961a-43f3e054658a"
      },
      "execution_count": null,
      "outputs": [
        {
          "output_type": "stream",
          "name": "stdout",
          "text": [
            "1/1 [==============================] - 0s 54ms/step\n",
            "accepted: 43 get: 42.92329\n",
            "1/1 [==============================] - 0s 48ms/step\n",
            "accepted: 24 get: 23.912954\n",
            "1/1 [==============================] - 0s 53ms/step\n",
            "accepted: 11 get: 11.022739\n",
            "1/1 [==============================] - 0s 60ms/step\n",
            "accepted: 4 get: 3.434818\n",
            "1/1 [==============================] - 0s 50ms/step\n",
            "accepted: 3 get: 3.434818\n",
            "1/1 [==============================] - 0s 52ms/step\n",
            "accepted: 8 get: 8.033218\n",
            "1/1 [==============================] - 0s 52ms/step\n",
            "accepted: 19 get: 18.985847\n",
            "1/1 [==============================] - 0s 51ms/step\n",
            "accepted: 36 get: 35.92775\n",
            "1/1 [==============================] - 0s 49ms/step\n",
            "accepted: 59 get: 58.94835\n"
          ]
        }
      ]
    }
  ]
}